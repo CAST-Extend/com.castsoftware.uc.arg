{
 "cells": [
  {
   "cell_type": "code",
   "execution_count": 1,
   "metadata": {},
   "outputs": [],
   "source": [
    "from hlRestCall import HLRestCall\n",
    "from pandas import json_normalize,DataFrame,concat,ExcelWriter,Series\n",
    "\n",
    "hl = HLRestCall(\"https://rpa.casthighlight.com/WS2/\",\"n.kaplan+KslawElevate@castsoftware.com\",\"vadKpBFAZ8KIKb2f2y\",20616)\n",
    "all_apps= DataFrame(hl.get_appls())\n"
   ]
  },
  {
   "cell_type": "code",
   "execution_count": 2,
   "metadata": {},
   "outputs": [
    {
     "data": {
      "text/html": [
       "<div>\n",
       "<style scoped>\n",
       "    .dataframe tbody tr th:only-of-type {\n",
       "        vertical-align: middle;\n",
       "    }\n",
       "\n",
       "    .dataframe tbody tr th {\n",
       "        vertical-align: top;\n",
       "    }\n",
       "\n",
       "    .dataframe thead th {\n",
       "        text-align: right;\n",
       "    }\n",
       "</style>\n",
       "<table border=\"1\" class=\"dataframe\">\n",
       "  <thead>\n",
       "    <tr style=\"text-align: right;\">\n",
       "      <th></th>\n",
       "      <th>id</th>\n",
       "      <th>name</th>\n",
       "      <th>domains</th>\n",
       "      <th>metrics</th>\n",
       "      <th>tags</th>\n",
       "    </tr>\n",
       "  </thead>\n",
       "  <tbody>\n",
       "    <tr>\n",
       "      <th>0</th>\n",
       "      <td>135393</td>\n",
       "      <td>Bamboo</td>\n",
       "      <td>[{'id': 20616, 'name': 'Kslaw - Elevate'}]</td>\n",
       "      <td>[{'snapshotLabel': '20220519', 'snapshotDate':...</td>\n",
       "      <td>[]</td>\n",
       "    </tr>\n",
       "  </tbody>\n",
       "</table>\n",
       "</div>"
      ],
      "text/plain": [
       "       id    name                                     domains  \\\n",
       "0  135393  Bamboo  [{'id': 20616, 'name': 'Kslaw - Elevate'}]   \n",
       "\n",
       "                                             metrics tags  \n",
       "0  [{'snapshotLabel': '20220519', 'snapshotDate':...   []  "
      ]
     },
     "execution_count": 2,
     "metadata": {},
     "output_type": "execute_result"
    }
   ],
   "source": [
    "from pandas import Explode\n",
    "\n"
   ]
  }
 ],
 "metadata": {
  "interpreter": {
   "hash": "f43d0d38fca9ae7f2fee352c924ddbe6bd156c3c2ddcb617fd0a2e9ce5ee2435"
  },
  "kernelspec": {
   "display_name": "Python 3.8.1 32-bit",
   "language": "python",
   "name": "python3"
  },
  "language_info": {
   "codemirror_mode": {
    "name": "ipython",
    "version": 3
   },
   "file_extension": ".py",
   "mimetype": "text/x-python",
   "name": "python",
   "nbconvert_exporter": "python",
   "pygments_lexer": "ipython3",
   "version": "3.8.1"
  },
  "orig_nbformat": 4
 },
 "nbformat": 4,
 "nbformat_minor": 2
}
