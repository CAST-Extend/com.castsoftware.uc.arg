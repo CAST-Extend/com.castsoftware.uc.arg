{
 "cells": [
  {
   "cell_type": "code",
   "execution_count": null,
   "metadata": {},
   "outputs": [],
   "source": [
    "import argparse\n",
    "from config import Config\n",
    "from restCall import HLData\n",
    "\n",
    "config = Config('/work/Decks/Concord/config.json')\n",
    "hl_data = HLData(config)\n",
    "hl_id = 'Concord'\n",
    "raw_df = hl_data.get_lic_info(hl_id)"
   ]
  },
  {
   "cell_type": "code",
   "execution_count": null,
   "metadata": {},
   "outputs": [],
   "source": [
    "lic_summary=hl_data.get_lic_info(hl_id)[['component','version','release','license','risk']].drop_duplicates()\n",
    "lic_summary.sort_values(['risk','license','component','version'],inplace=True)\n"
   ]
  },
  {
   "cell_type": "code",
   "execution_count": 2,
   "metadata": {},
   "outputs": [],
   "source": [
    "import pandas as pd    \n",
    "#string = 'abc, abc, efg, hij, abc, efg, klm'\n",
    "string = 'abc'\n",
    "separator = ', '\n",
    "\n",
    "alist = list(string.split(separator))\n",
    "alist.sort()\n",
    "nlist = []\n",
    "clist = []\n",
    "for i in alist:\n",
    "    if i not in nlist:\n",
    "        nlist.append(i)\n",
    "        clist.append(1)\n",
    "    else:\n",
    "        idx = nlist.index(i)\n",
    "        clist[idx]=clist[idx]+1\n",
    "\n",
    "for val in nlist:\n",
    "    idx = nlist.index(val)\n",
    "    cnt = clist[idx]\n",
    "    \n",
    "    cval=''\n",
    "    if cnt > 1:\n",
    "        cval = f'({cnt})'\n",
    "    val = f'{val}:{cval}'\n",
    "    nlist[idx]=val"
   ]
  },
  {
   "cell_type": "code",
   "execution_count": null,
   "metadata": {},
   "outputs": [],
   "source": [
    "from util import find_nth\n",
    "from util import no_dups\n",
    "\n",
    "lic_summary = lic_summary.groupby(['risk','license'])['component'].apply(lambda x: ', '.join(x)).reset_index()\n",
    "lic_summary['comp count']=lic_summary['component'].str.count(',')+1\n",
    "lic_summary['component']=lic_summary['component'].map(lambda x: x[:no_dups(x,', ')])\n",
    "lic_summary['component']=lic_summary['component'].map(lambda x: x[:find_nth(x,', ',6)])\n",
    "lic_summary=lic_summary[['license','risk','comp count','component']]\n"
   ]
  },
  {
   "cell_type": "code",
   "execution_count": null,
   "metadata": {},
   "outputs": [],
   "source": [
    "lic_summary=lic_summary[lic_summary[\"risk\"].str.contains(\"Low\")==False]\n",
    "lic_summary=lic_summary[lic_summary[\"risk\"].str.contains(\"Undefined\")==False]"
   ]
  },
  {
   "cell_type": "code",
   "execution_count": null,
   "metadata": {},
   "outputs": [],
   "source": [
    "lic_summary[lic_summary['risk']=='High']['comp count'].sum()"
   ]
  },
  {
   "cell_type": "code",
   "execution_count": null,
   "metadata": {},
   "outputs": [],
   "source": [
    "#app1_HL_table_lic_risks\n",
    "lic_summary.loc[lic_summary['risk']=='High','forground']='255,0,0'\n",
    "lic_summary.loc[lic_summary['risk']=='Medium','forground']='209,125,13'\n"
   ]
  }
 ],
 "metadata": {
  "interpreter": {
   "hash": "bb294ca0c2d3a544d80c9b2498ff06f5db5d7a2c75917129c1ee534449d2c33a"
  },
  "kernelspec": {
   "display_name": "Python 3.8.1 32-bit",
   "language": "python",
   "name": "python3"
  },
  "language_info": {
   "codemirror_mode": {
    "name": "ipython",
    "version": 3
   },
   "file_extension": ".py",
   "mimetype": "text/x-python",
   "name": "python",
   "nbconvert_exporter": "python",
   "pygments_lexer": "ipython3",
   "version": "3.8.1"
  },
  "orig_nbformat": 4
 },
 "nbformat": 4,
 "nbformat_minor": 2
}
