{
 "metadata": {
  "language_info": {
   "codemirror_mode": {
    "name": "ipython",
    "version": 3
   },
   "file_extension": ".py",
   "mimetype": "text/x-python",
   "name": "python",
   "nbconvert_exporter": "python",
   "pygments_lexer": "ipython3",
   "version": "3.8.1-final"
  },
  "orig_nbformat": 2,
  "kernelspec": {
   "name": "python3",
   "display_name": "Python 3",
   "language": "python"
  }
 },
 "nbformat": 4,
 "nbformat_minor": 2,
 "cells": [
  {
   "cell_type": "code",
   "execution_count": 1,
   "metadata": {},
   "outputs": [
    {
     "output_type": "stream",
     "name": "stdout",
     "text": [
      "ActionPlatform and Intersect\n{'id': 2, 'name': 'ActionPlatform', 'technology': ['.NET', 'HTML5', 'SQL', 'Visual Basic'], 'module_href': 'c9bc939f-04cc-4c78-be54-95c9d56f6dac/applications/3/snapshots/2/modules', 'result_href': 'c9bc939f-04cc-4c78-be54-95c9d56f6dac/applications/3/snapshots/2/results'}\n"
     ]
    }
   ],
   "source": [
    "from restCall import AipRestCall\n",
    "from restCall import AipData\n",
    "from pptx import Presentation\n",
    "from powerpoint import PowerPoint\n"
   ]
  },
  {
   "cell_type": "code",
   "execution_count": 3,
   "metadata": {},
   "outputs": [],
   "source": [
    "aip_rest = AipRestCall(\"http://sha-dd-console:8080/CAST-RESTAPI-integrated/rest/\",\"cast\",\"cast\",True)\n",
    "project = \"Test Project\"    \n",
    "apps = [\"flow\",\"intersect\"] \n",
    "aip_data = AipData(aip_rest,\"Florence\", apps)\n"
   ]
  },
  {
   "cell_type": "code",
   "execution_count": 7,
   "metadata": {},
   "outputs": [],
   "source": [
    "ppt = PowerPoint(\"c:\\\\work\\\\data\\\\template.pptx\",\"..\\\\data\\\\test.pptx\")\n",
    "\n",
    "ppt.replace_text(\"{project}\",project)\n",
    "ppt.replace_text(\"{app_count}\",len(apps))\n",
    "ppt.replace_text(\"{all_apps}\",aip_data.get_all_app_text())\n",
    "all = aip_data.get_app_grades(app=\"flow\")\n",
    "#ppt.replace_grade(all)\n",
    "\n",
    "\n",
    "\n",
    "ppt.save()"
   ]
  },
  {
   "cell_type": "code",
   "execution_count": null,
   "metadata": {},
   "outputs": [],
   "source": [
    "\n",
    "\n",
    "ppt.replace_text(\"{project_name}\",\"Eden\")\n",
    "ppt.replace_text(\"{appl_name}\",snapshot['name'])\n",
    "ppt.replace_grade(all)\n",
    "ppt.replace_risk_factor(all)\n",
    "ppt.fill_table('DocTable',sizing_df,orient='index')\n",
    "\n",
    "\n",
    "\n",
    "loc_short = \"{0:,.0f}\".format(loc) \n",
    "if loc > 1000000:\n",
    "    loc_short = \"~{0:,.2f} MLOC\".format(loc/1000000) \n",
    "elif loc > 100000:\n",
    "    loc_short = \"~{0:,.0f} KLOC\".format(loc/100000) \n",
    "ppt.replace_text(\"{loc}\",f'{loc:,.0f}')\n",
    "ppt.replace_text(\"{loc_short}\",loc_short)\n",
    "\n",
    "size_catagory = 'small'\n",
    "if loc > 1000000:\n",
    "    size_catagory = 'very large'\n",
    "elif loc > 500000:\n",
    "    size_catagory = 'large'\n",
    "ppt.replace_text(\"{size_category}\",size_catagory)\n",
    "ppt.update_chart('DocProportion',sizing.keys(),sizing.values())\n",
    "\n",
    "\n",
    "#\n",
    "\n",
    "ppt.save()\n"
   ]
  },
  {
   "cell_type": "code",
   "execution_count": null,
   "metadata": {},
   "outputs": [],
   "source": [
    "sizing = aip.getSizing(domain_id,aip._sizing)\n",
    "sizing_df = pd.DataFrame.from_dict(data=sizing, orient='index')\n",
    "sizing_df[1] = None\n",
    "sizing_df[1] = round((sizing_df[0]/sizing_df[0].sum()) * 100)\n",
    "sizing_df[0] = sizing_df[0].map('{:,.0f}'.format)\n",
    "sizing_df[1] = sizing_df[1].map('{:,.0f}%'.format)\n"
   ]
  },
  {
   "cell_type": "code",
   "execution_count": null,
   "metadata": {},
   "outputs": [],
   "source": []
  }
 ]
}