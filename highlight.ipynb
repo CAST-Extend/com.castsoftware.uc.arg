{
 "cells": [
  {
   "cell_type": "code",
   "execution_count": 1,
   "metadata": {},
   "outputs": [
    {
     "name": "stdout",
     "output_type": "stream",
     "text": [
      "2022-06-02 12:58:11,841 [INFO] Collecting Highlight data for harness\n"
     ]
    },
    {
     "ename": "KeyError",
     "evalue": "'Application not found: harness'",
     "output_type": "error",
     "traceback": [
      "\u001b[1;31m---------------------------------------------------------------------------\u001b[0m",
      "\u001b[1;31mKeyError\u001b[0m                                  Traceback (most recent call last)",
      "\u001b[1;32m~\\AppData\\Local\\Temp/ipykernel_19200/3663745413.py\u001b[0m in \u001b[0;36m<module>\u001b[1;34m\u001b[0m\n\u001b[0;32m      4\u001b[0m \u001b[1;33m\u001b[0m\u001b[0m\n\u001b[0;32m      5\u001b[0m \u001b[0mconfig\u001b[0m \u001b[1;33m=\u001b[0m \u001b[0mConfig\u001b[0m\u001b[1;33m(\u001b[0m\u001b[1;34m'/work/Decks/KslawElevate/config.json'\u001b[0m\u001b[1;33m)\u001b[0m\u001b[1;33m\u001b[0m\u001b[1;33m\u001b[0m\u001b[0m\n\u001b[1;32m----> 6\u001b[1;33m \u001b[0mhl_data\u001b[0m \u001b[1;33m=\u001b[0m \u001b[0mHLData\u001b[0m\u001b[1;33m(\u001b[0m\u001b[0mconfig\u001b[0m\u001b[1;33m)\u001b[0m\u001b[1;33m\u001b[0m\u001b[1;33m\u001b[0m\u001b[0m\n\u001b[0m",
      "\u001b[1;32mc:\\work\\com.castsoftware.uc.arg\\restCall.py\u001b[0m in \u001b[0;36m__init__\u001b[1;34m(self, config, timer_on)\u001b[0m\n\u001b[0;32m    364\u001b[0m             \u001b[0mself\u001b[0m\u001b[1;33m.\u001b[0m\u001b[0m__data\u001b[0m\u001b[1;33m[\u001b[0m\u001b[0ms\u001b[0m\u001b[1;33m]\u001b[0m\u001b[1;33m[\u001b[0m\u001b[1;34m'has data'\u001b[0m\u001b[1;33m]\u001b[0m \u001b[1;33m=\u001b[0m \u001b[1;32mFalse\u001b[0m\u001b[1;33m\u001b[0m\u001b[1;33m\u001b[0m\u001b[0m\n\u001b[0;32m    365\u001b[0m \u001b[1;33m\u001b[0m\u001b[0m\n\u001b[1;32m--> 366\u001b[1;33m             \u001b[0mapp_id\u001b[0m \u001b[1;33m=\u001b[0m \u001b[0mself\u001b[0m\u001b[1;33m.\u001b[0m\u001b[0mget_app_id\u001b[0m\u001b[1;33m(\u001b[0m\u001b[0ms\u001b[0m\u001b[1;33m)\u001b[0m\u001b[1;33m\u001b[0m\u001b[1;33m\u001b[0m\u001b[0m\n\u001b[0m\u001b[0;32m    367\u001b[0m             \u001b[1;32mif\u001b[0m \u001b[0mapp_id\u001b[0m\u001b[1;33m:\u001b[0m\u001b[1;33m\u001b[0m\u001b[1;33m\u001b[0m\u001b[0m\n\u001b[0;32m    368\u001b[0m                 \u001b[1;33m(\u001b[0m\u001b[0mlic\u001b[0m\u001b[1;33m,\u001b[0m\u001b[0mcves\u001b[0m\u001b[1;33m,\u001b[0m\u001b[0mtotal_components\u001b[0m\u001b[1;33m)\u001b[0m \u001b[1;33m=\u001b[0m \u001b[0mself\u001b[0m\u001b[1;33m.\u001b[0m\u001b[0mget_third_party\u001b[0m\u001b[1;33m(\u001b[0m\u001b[0mapp_id\u001b[0m\u001b[1;33m)\u001b[0m\u001b[1;33m\u001b[0m\u001b[1;33m\u001b[0m\u001b[0m\n",
      "\u001b[1;32mc:\\work\\com.castsoftware.uc.arg\\hlRestCall.py\u001b[0m in \u001b[0;36mget_app_id\u001b[1;34m(self, app_name)\u001b[0m\n\u001b[0;32m     62\u001b[0m                 \u001b[1;32mif\u001b[0m \u001b[0mid\u001b[0m\u001b[1;33m[\u001b[0m\u001b[1;34m'name'\u001b[0m\u001b[1;33m]\u001b[0m\u001b[1;33m.\u001b[0m\u001b[0mlower\u001b[0m\u001b[1;33m(\u001b[0m\u001b[1;33m)\u001b[0m\u001b[1;33m==\u001b[0m\u001b[0mapp_name\u001b[0m\u001b[1;33m.\u001b[0m\u001b[0mlower\u001b[0m\u001b[1;33m(\u001b[0m\u001b[1;33m)\u001b[0m\u001b[1;33m:\u001b[0m\u001b[1;33m\u001b[0m\u001b[1;33m\u001b[0m\u001b[0m\n\u001b[0;32m     63\u001b[0m                     \u001b[1;32mreturn\u001b[0m \u001b[0mid\u001b[0m\u001b[1;33m[\u001b[0m\u001b[1;34m'id'\u001b[0m\u001b[1;33m]\u001b[0m\u001b[1;33m\u001b[0m\u001b[1;33m\u001b[0m\u001b[0m\n\u001b[1;32m---> 64\u001b[1;33m             \u001b[1;32mraise\u001b[0m \u001b[0mKeyError\u001b[0m \u001b[1;33m(\u001b[0m\u001b[1;34mf'Application not found: {app_name}'\u001b[0m\u001b[1;33m)\u001b[0m\u001b[1;33m\u001b[0m\u001b[1;33m\u001b[0m\u001b[0m\n\u001b[0m\u001b[0;32m     65\u001b[0m \u001b[1;33m\u001b[0m\u001b[0m\n\u001b[0;32m     66\u001b[0m     \u001b[1;32mdef\u001b[0m \u001b[0mget_cloud_data\u001b[0m\u001b[1;33m(\u001b[0m\u001b[0mself\u001b[0m\u001b[1;33m,\u001b[0m\u001b[0mapp_id\u001b[0m\u001b[1;33m)\u001b[0m\u001b[1;33m:\u001b[0m\u001b[1;33m\u001b[0m\u001b[1;33m\u001b[0m\u001b[0m\n",
      "\u001b[1;31mKeyError\u001b[0m: 'Application not found: harness'"
     ]
    }
   ],
   "source": [
    "import argparse\n",
    "from config import Config\n",
    "from restCall import HLData\n",
    "\n",
    "config = Config('/work/Decks/KslawElevate/config.json')\n",
    "hl_data = HLData(config)\n"
   ]
  },
  {
   "cell_type": "code",
   "execution_count": null,
   "metadata": {},
   "outputs": [],
   "source": [
    "\n",
    "hl_id = 'Concord'\n",
    "cve_df = hl_data.get_cve_data(hl_id)\n",
    "cve_df.sort_values(['cweId','cve'], ascending=True, inplace=True)\n",
    "cwe_df = cve_df.groupby(['cweId'])['cve'].apply(lambda x: ', '.join(x)).reset_index()\n"
   ]
  },
  {
   "cell_type": "code",
   "execution_count": 4,
   "metadata": {},
   "outputs": [],
   "source": [
    "cve_df = cve_df[['cve','cweId','criticity']].drop_duplicates()\n",
    "critical_df = cve_df[cve_df['criticity']=='CRITICAL'].groupby(['cweId']).size().reset_index(name='Critical')\n",
    "high_df = cve_df[cve_df['criticity']=='HIGH'].groupby(['cweId']).size().reset_index(name='High')\n",
    "medium_df = cve_df[cve_df['criticity']=='MEDIUM'].groupby(['cweId']).size().reset_index(name='Medium')\n"
   ]
  },
  {
   "cell_type": "code",
   "execution_count": 5,
   "metadata": {},
   "outputs": [],
   "source": [
    "\n",
    "final_df = critical_df.merge(high_df, left_on='cweId', right_on='cweId',how='outer').fillna(0)\n",
    "final_df = final_df.merge(medium_df, left_on='cweId', right_on='cweId',how='outer').fillna(0)\n",
    "final_df = final_df.merge(cwe_df, left_on='cweId', right_on='cweId',how='outer')\n",
    "#\n",
    "final_df['Total CVEs'] = final_df['Critical'] + final_df['High'] + final_df['Medium']\n",
    "final_df = final_df[['cweId','cve','Critical','High','Medium','Total CVEs']].fillna(0)\n",
    "final_df['cve']=final_df['cve'].str.replace('CVE-','')\n",
    "final_df['cweId']=final_df['cweId'].str.replace('CWE-','')\n"
   ]
  },
  {
   "cell_type": "code",
   "execution_count": 2,
   "metadata": {},
   "outputs": [],
   "source": [
    "from pandas import read_csv\n",
    "\n",
    "cwe_top_25 = read_csv('cwe-top25.csv')\n",
    "cwe_top_25['CWE-ID']='CWE-'+cwe_top_25['CWE-ID'].astype(str)\n",
    "cwe_top_25=cwe_top_25[['CWE-ID','Name','Description','Extended Description','Common Consequences','Potential Mitigations']]\n",
    "\n",
    "#final_df = final_df.merge(cwe_df, left_on='cweId', right_on='cweId',how='outer')"
   ]
  },
  {
   "cell_type": "code",
   "execution_count": null,
   "metadata": {},
   "outputs": [],
   "source": [
    "import util\n",
    "import pandas as pd\n",
    "\n",
    "file_name = f'{config.output}/risk.xlsx'\n",
    "writer = pd.ExcelWriter(file_name, engine='xlsxwriter')\n",
    "col_widths=[50,10,10,10,10]\n",
    "cloud_tab = util.format_table(writer,final_df,'Risk',col_widths)\n",
    "writer.save()\n"
   ]
  }
 ],
 "metadata": {
  "interpreter": {
   "hash": "f43d0d38fca9ae7f2fee352c924ddbe6bd156c3c2ddcb617fd0a2e9ce5ee2435"
  },
  "kernelspec": {
   "display_name": "Python 3.8.1 32-bit",
   "language": "python",
   "name": "python3"
  },
  "language_info": {
   "codemirror_mode": {
    "name": "ipython",
    "version": 3
   },
   "file_extension": ".py",
   "mimetype": "text/x-python",
   "name": "python",
   "nbconvert_exporter": "python",
   "pygments_lexer": "ipython3",
   "version": "3.8.1"
  },
  "orig_nbformat": 4
 },
 "nbformat": 4,
 "nbformat_minor": 2
}
