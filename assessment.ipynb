{
 "metadata": {
  "language_info": {
   "codemirror_mode": {
    "name": "ipython",
    "version": 3
   },
   "file_extension": ".py",
   "mimetype": "text/x-python",
   "name": "python",
   "nbconvert_exporter": "python",
   "pygments_lexer": "ipython3",
   "version": "3.8.1-final"
  },
  "orig_nbformat": 2,
  "kernelspec": {
   "name": "python3",
   "display_name": "Python 3",
   "language": "python"
  }
 },
 "nbformat": 4,
 "nbformat_minor": 2,
 "cells": [
  {
   "cell_type": "code",
   "execution_count": 1,
   "metadata": {},
   "outputs": [],
   "source": [
    "from restCall import AipRestCall\n",
    "from restCall import AipData\n",
    "from pptx import Presentation\n",
    "from powerpoint import PowerPoint\n",
    "import pandas as pd\n",
    "import numpy as np\n",
    "\n",
    "import util \n"
   ]
  },
  {
   "cell_type": "code",
   "execution_count": 2,
   "metadata": {},
   "outputs": [
    {
     "output_type": "stream",
     "name": "stdout",
     "text": [
      "Collecting data for accela\n",
      "2021-02-03 09:05:21,961 - restCall.py [      get_grades_by_technology:113 ] WARNING  - 33957eda-dd37-4b13-860e-0363ad2fc9c0 no grade available for 60017 C++ setting it to 4\n",
      "2021-02-03 09:05:22,033 - restCall.py [      get_grades_by_technology:113 ] WARNING  - 33957eda-dd37-4b13-860e-0363ad2fc9c0 no grade available for 60013 C++ setting it to 4\n",
      "2021-02-03 09:05:22,102 - restCall.py [      get_grades_by_technology:113 ] WARNING  - 33957eda-dd37-4b13-860e-0363ad2fc9c0 no grade available for 60014 C++ setting it to 4\n",
      "2021-02-03 09:05:22,161 - restCall.py [      get_grades_by_technology:113 ] WARNING  - 33957eda-dd37-4b13-860e-0363ad2fc9c0 no grade available for 60016 C++ setting it to 4\n",
      "2021-02-03 09:05:22,233 - restCall.py [      get_grades_by_technology:113 ] WARNING  - 33957eda-dd37-4b13-860e-0363ad2fc9c0 no grade available for 60011 C++ setting it to 4\n",
      "2021-02-03 09:05:22,294 - restCall.py [      get_grades_by_technology:113 ] WARNING  - 33957eda-dd37-4b13-860e-0363ad2fc9c0 no grade available for 60012 C++ setting it to 4\n",
      "2021-02-03 09:05:22,356 - restCall.py [      get_grades_by_technology:113 ] WARNING  - 33957eda-dd37-4b13-860e-0363ad2fc9c0 no grade available for 60015 C++ setting it to 4\n"
     ]
    }
   ],
   "source": [
    "aip_rest = AipRestCall(\"http://sha-dd-console:8080/CAST-RESTAPI-integrated/rest/\",\"cast\",\"cast\",True)\n",
    "\n",
    "project = \"accela\"    \n",
    "apps = [\"accela\"] \n",
    "app_cnt = len(apps)\n",
    "\n",
    "aip_data = AipData(aip_rest,project, apps)\n",
    "all_apps_avg_grade = aip_data.calc_grades_all_apps()\n"
   ]
  },
  {
   "source": [
    "app_id = apps[0]\n",
    "domain_id=aip_data.domain(app_id)\n",
    "snapshot=aip_data.snapshot(app_id)\n",
    "\n",
    "\n",
    "rslt_df = aip_rest.get_rules(domain_id,snapshot['id'],60017,non_critical=False)\n",
    "\n",
    "rslt_df['remedialAction'] = rslt_df['remedialAction'].apply(lambda x: {} if pd.isna(x) else x)\n",
    "rslt_df['exclusionRequest'] = rslt_df['exclusionRequest'].apply(lambda x: {} if pd.isna(x) else x)\n",
    "\n",
    "component = pd.json_normalize(rslt_df['component']).add_prefix('component.')\n",
    "component = component.drop(columns=['component.href',\n",
    "                                    'component.treeNodes.name',\n",
    "                                    'component.treeNodes.href',\n",
    "                                    'component.sourceCodes.name'])\n",
    "\n",
    "diagnosis = pd.json_normalize(rslt_df['diagnosis']).add_prefix('diagnosis.')\n",
    "diagnosis = diagnosis.drop(columns=['diagnosis.status','diagnosis.findings.name'])\n",
    "\n",
    "exclusion = pd.json_normalize(rslt_df['exclusionRequest']).add_prefix('exclusion.')\n",
    "action = pd.json_normalize(rslt_df['remedialAction']).add_prefix('action.')\n",
    "\n",
    "rulePattern = pd.json_normalize(rslt_df['rulePattern']).add_prefix('rulePattern.')\n",
    "\n",
    "rslt_df = component.join([rulePattern,diagnosis,exclusion,action])\n",
    "rslt_df[s.rindex('-')+1:]"
   ],
   "cell_type": "code",
   "metadata": {},
   "execution_count": 6,
   "outputs": [
    {
     "output_type": "error",
     "ename": "NameError",
     "evalue": "name 'snapshot' is not defined",
     "traceback": [
      "\u001b[1;31m---------------------------------------------------------------------------\u001b[0m",
      "\u001b[1;31mNameError\u001b[0m                                 Traceback (most recent call last)",
      "\u001b[1;32m<ipython-input-6-bc5e7a35a578>\u001b[0m in \u001b[0;36m<module>\u001b[1;34m\u001b[0m\n\u001b[0;32m      1\u001b[0m \u001b[0mdomain_id\u001b[0m\u001b[1;33m=\u001b[0m\u001b[0maip_data\u001b[0m\u001b[1;33m.\u001b[0m\u001b[0mdomain\u001b[0m\u001b[1;33m(\u001b[0m\u001b[0mapps\u001b[0m\u001b[1;33m[\u001b[0m\u001b[1;36m0\u001b[0m\u001b[1;33m]\u001b[0m\u001b[1;33m)\u001b[0m\u001b[1;33m\u001b[0m\u001b[1;33m\u001b[0m\u001b[0m\n\u001b[0;32m      2\u001b[0m \u001b[1;33m\u001b[0m\u001b[0m\n\u001b[1;32m----> 3\u001b[1;33m \u001b[0mrslt_df\u001b[0m \u001b[1;33m=\u001b[0m \u001b[0maip_rest\u001b[0m\u001b[1;33m.\u001b[0m\u001b[0mget_rules\u001b[0m\u001b[1;33m(\u001b[0m\u001b[0mdomain_id\u001b[0m\u001b[1;33m,\u001b[0m\u001b[0msnapshot\u001b[0m\u001b[1;33m[\u001b[0m\u001b[1;34m'id'\u001b[0m\u001b[1;33m]\u001b[0m\u001b[1;33m,\u001b[0m\u001b[1;36m60017\u001b[0m\u001b[1;33m,\u001b[0m\u001b[0mnon_critical\u001b[0m\u001b[1;33m=\u001b[0m\u001b[1;32mFalse\u001b[0m\u001b[1;33m)\u001b[0m\u001b[1;33m\u001b[0m\u001b[1;33m\u001b[0m\u001b[0m\n\u001b[0m\u001b[0;32m      4\u001b[0m \u001b[1;33m\u001b[0m\u001b[0m\n\u001b[0;32m      5\u001b[0m \u001b[0mrslt_df\u001b[0m\u001b[1;33m[\u001b[0m\u001b[1;34m'remedialAction'\u001b[0m\u001b[1;33m]\u001b[0m \u001b[1;33m=\u001b[0m \u001b[0mrslt_df\u001b[0m\u001b[1;33m[\u001b[0m\u001b[1;34m'remedialAction'\u001b[0m\u001b[1;33m]\u001b[0m\u001b[1;33m.\u001b[0m\u001b[0mapply\u001b[0m\u001b[1;33m(\u001b[0m\u001b[1;32mlambda\u001b[0m \u001b[0mx\u001b[0m\u001b[1;33m:\u001b[0m \u001b[1;33m{\u001b[0m\u001b[1;33m}\u001b[0m \u001b[1;32mif\u001b[0m \u001b[0mpd\u001b[0m\u001b[1;33m.\u001b[0m\u001b[0misna\u001b[0m\u001b[1;33m(\u001b[0m\u001b[0mx\u001b[0m\u001b[1;33m)\u001b[0m \u001b[1;32melse\u001b[0m \u001b[0mx\u001b[0m\u001b[1;33m)\u001b[0m\u001b[1;33m\u001b[0m\u001b[1;33m\u001b[0m\u001b[0m\n",
      "\u001b[1;31mNameError\u001b[0m: name 'snapshot' is not defined"
     ]
    }
   ]
  },
  {
   "cell_type": "code",
   "execution_count": null,
   "metadata": {},
   "outputs": [],
   "source": []
  }
 ]
}