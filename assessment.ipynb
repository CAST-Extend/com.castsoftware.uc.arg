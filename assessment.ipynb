{
 "metadata": {
  "language_info": {
   "codemirror_mode": {
    "name": "ipython",
    "version": 3
   },
   "file_extension": ".py",
   "mimetype": "text/x-python",
   "name": "python",
   "nbconvert_exporter": "python",
   "pygments_lexer": "ipython3",
   "version": "3.8.1-final"
  },
  "orig_nbformat": 2,
  "kernelspec": {
   "name": "python3",
   "display_name": "Python 3",
   "language": "python"
  }
 },
 "nbformat": 4,
 "nbformat_minor": 2,
 "cells": [
  {
   "cell_type": "code",
   "execution_count": 1,
   "metadata": {},
   "outputs": [],
   "source": [
    "from restCall import AipRestCall\n",
    "from restCall import AipData\n",
    "from pptx import Presentation\n"
   ]
  },
  {
   "cell_type": "code",
   "execution_count": 5,
   "metadata": {},
   "outputs": [],
   "source": [
    "aip_rest = AipRestCall(\"http://sha-dd-console:8080/CAST-RESTAPI-integrated/rest/\",\"cast\",\"cast\",True)\n",
    "\n",
    "project = \"Blackhawks\"    \n",
    "apps = [\"mobile_doorman_android\",\"mobile_doorman_ios\"] \n",
    "app_cnt = len(apps)\n",
    "aip_data = AipData(aip_rest,project, apps)"
   ]
  },
  {
   "cell_type": "code",
   "execution_count": 6,
   "metadata": {},
   "outputs": [
    {
     "output_type": "stream",
     "name": "stdout",
     "text": [
      "mobile_doorman_ios\n"
     ]
    }
   ],
   "source": [
    "app_no = 1\n",
    "print(apps[app_no])\n",
    "app_id = apps[app_no]\n",
    "app_level_grades = aip_data.get_app_grades(app_id)\n"
   ]
  },
  {
   "cell_type": "code",
   "execution_count": null,
   "metadata": {},
   "outputs": [],
   "source": []
  }
 ]
}