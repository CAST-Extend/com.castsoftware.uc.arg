{
 "cells": [
  {
   "cell_type": "code",
   "execution_count": 1,
   "metadata": {},
   "outputs": [
    {
     "name": "stdout",
     "output_type": "stream",
     "text": [
      "2022-05-26 16:18:04,195 [INFO] Collecting AIP data for harness\n",
      "2022-05-26 16:18:05,820 [WARNING] Key Error while aggregating Complexity - Technical Complexity\n",
      "2022-05-26 16:18:10,233 [WARNING] 3f3e0d2b-68fa-4d64-ac3d-74343e8af9ac no grade available for 60013 PHP setting it to 4\n",
      "2022-05-26 16:18:10,301 [WARNING] 3f3e0d2b-68fa-4d64-ac3d-74343e8af9ac no grade available for 60014 PHP setting it to 4\n",
      "2022-05-26 16:18:10,435 [WARNING] 3f3e0d2b-68fa-4d64-ac3d-74343e8af9ac no grade available for 60011 PHP setting it to 4\n",
      "2022-05-26 16:18:10,506 [WARNING] 3f3e0d2b-68fa-4d64-ac3d-74343e8af9ac no grade available for 60012 PHP setting it to 4\n",
      "2022-05-26 16:18:10,573 [WARNING] 3f3e0d2b-68fa-4d64-ac3d-74343e8af9ac no grade available for 66033 PHP setting it to 4\n",
      "2022-05-26 16:18:10,705 [WARNING] 3f3e0d2b-68fa-4d64-ac3d-74343e8af9ac no grade available for 1061003 PHP setting it to 4\n",
      "2022-05-26 16:18:10,773 [WARNING] 3f3e0d2b-68fa-4d64-ac3d-74343e8af9ac no grade available for 1061001 PHP setting it to 4\n",
      "2022-05-26 16:18:10,838 [WARNING] 3f3e0d2b-68fa-4d64-ac3d-74343e8af9ac no grade available for 1061002 PHP setting it to 4\n"
     ]
    }
   ],
   "source": [
    "import argparse\n",
    "from config import Config\n",
    "from restCall import AipData\n",
    "\n",
    "config = Config('C:/work/Decks/KslawElevate/config.json')\n",
    "aip_data = AipData(config)\n",
    "\n",
    "key='60017'\n",
    "\n",
    "domain_id='3f3e0d2b-68fa-4d64-ac3d-74343e8af9ac'\n",
    "snapshot_id=3\n"
   ]
  },
  {
   "cell_type": "code",
   "execution_count": 2,
   "metadata": {},
   "outputs": [
    {
     "data": {
      "text/html": [
       "<div>\n",
       "<style scoped>\n",
       "    .dataframe tbody tr th:only-of-type {\n",
       "        vertical-align: middle;\n",
       "    }\n",
       "\n",
       "    .dataframe tbody tr th {\n",
       "        vertical-align: top;\n",
       "    }\n",
       "\n",
       "    .dataframe thead th {\n",
       "        text-align: right;\n",
       "    }\n",
       "</style>\n",
       "<table border=\"1\" class=\"dataframe\">\n",
       "  <thead>\n",
       "    <tr style=\"text-align: right;\">\n",
       "      <th></th>\n",
       "      <th>application.name</th>\n",
       "      <th>annotation.version</th>\n",
       "      <th>module.name</th>\n",
       "      <th>technologies</th>\n",
       "    </tr>\n",
       "  </thead>\n",
       "  <tbody>\n",
       "    <tr>\n",
       "      <th>0</th>\n",
       "      <td>Harness</td>\n",
       "      <td>Version-2022-03-29T15-20-54</td>\n",
       "      <td>harness-api-main</td>\n",
       "      <td>HTML5</td>\n",
       "    </tr>\n",
       "    <tr>\n",
       "      <th>0</th>\n",
       "      <td>Harness</td>\n",
       "      <td>Version-2022-03-29T15-20-54</td>\n",
       "      <td>harness-api-main</td>\n",
       "      <td>PHP</td>\n",
       "    </tr>\n",
       "    <tr>\n",
       "      <th>1</th>\n",
       "      <td>Harness</td>\n",
       "      <td>Version-2022-03-29T15-20-54</td>\n",
       "      <td>harness-frontend-main</td>\n",
       "      <td>HTML5</td>\n",
       "    </tr>\n",
       "    <tr>\n",
       "      <th>1</th>\n",
       "      <td>Harness</td>\n",
       "      <td>Version-2022-03-29T15-20-54</td>\n",
       "      <td>harness-frontend-main</td>\n",
       "      <td>PHP</td>\n",
       "    </tr>\n",
       "  </tbody>\n",
       "</table>\n",
       "</div>"
      ],
      "text/plain": [
       "  application.name           annotation.version            module.name  \\\n",
       "0          Harness  Version-2022-03-29T15-20-54       harness-api-main   \n",
       "0          Harness  Version-2022-03-29T15-20-54       harness-api-main   \n",
       "1          Harness  Version-2022-03-29T15-20-54  harness-frontend-main   \n",
       "1          Harness  Version-2022-03-29T15-20-54  harness-frontend-main   \n",
       "\n",
       "  technologies  \n",
       "0        HTML5  \n",
       "0          PHP  \n",
       "1        HTML5  \n",
       "1          PHP  "
      ]
     },
     "execution_count": 2,
     "metadata": {},
     "output_type": "execute_result"
    }
   ],
   "source": [
    "from pandas import DataFrame,json_normalize\n",
    "\n",
    "url=f'{domain_id}/applications/3/snapshots/{snapshot_id}/modules'\n",
    "(status,json) = aip_data.get(url)\n",
    "df = json_normalize(json)\n",
    "df=df[['application.name','annotation.version','module.name','technologies']]\n",
    "df=df.explode('technologies')\n",
    "df\n",
    "\n",
    "transactions/60016"
   ]
  },
  {
   "cell_type": "code",
   "execution_count": 18,
   "metadata": {},
   "outputs": [],
   "source": [
    "from requests import codes\n",
    "\n",
    "def grade(row):\n",
    "    module=row['module.name']\n",
    "    tech=row['technologies']\n",
    "\n",
    "    url=f\"{domain_id}/applications/3/results?modules={module}&technologies={tech}\"\n",
    "    (status,json) = aip_data.get(url)\n",
    "    if status == codes.ok:\n",
    "        return json[0]['applicationResults'][0]['moduleResults'][0]['technologyResults'][0]['result']['grade']\n",
    "\n"
   ]
  },
  {
   "cell_type": "code",
   "execution_count": 19,
   "metadata": {},
   "outputs": [
    {
     "data": {
      "text/html": [
       "<div>\n",
       "<style scoped>\n",
       "    .dataframe tbody tr th:only-of-type {\n",
       "        vertical-align: middle;\n",
       "    }\n",
       "\n",
       "    .dataframe tbody tr th {\n",
       "        vertical-align: top;\n",
       "    }\n",
       "\n",
       "    .dataframe thead th {\n",
       "        text-align: right;\n",
       "    }\n",
       "</style>\n",
       "<table border=\"1\" class=\"dataframe\">\n",
       "  <thead>\n",
       "    <tr style=\"text-align: right;\">\n",
       "      <th></th>\n",
       "      <th>application.name</th>\n",
       "      <th>annotation.version</th>\n",
       "      <th>module.name</th>\n",
       "      <th>technologies</th>\n",
       "      <th>results</th>\n",
       "      <th>grade</th>\n",
       "    </tr>\n",
       "  </thead>\n",
       "  <tbody>\n",
       "    <tr>\n",
       "      <th>0</th>\n",
       "      <td>Harness</td>\n",
       "      <td>Version-2022-03-29T15-20-54</td>\n",
       "      <td>harness-api-main</td>\n",
       "      <td>HTML5</td>\n",
       "      <td>3.303535</td>\n",
       "      <td>3.303535</td>\n",
       "    </tr>\n",
       "    <tr>\n",
       "      <th>0</th>\n",
       "      <td>Harness</td>\n",
       "      <td>Version-2022-03-29T15-20-54</td>\n",
       "      <td>harness-api-main</td>\n",
       "      <td>PHP</td>\n",
       "      <td>4.000000</td>\n",
       "      <td>4.000000</td>\n",
       "    </tr>\n",
       "    <tr>\n",
       "      <th>1</th>\n",
       "      <td>Harness</td>\n",
       "      <td>Version-2022-03-29T15-20-54</td>\n",
       "      <td>harness-frontend-main</td>\n",
       "      <td>HTML5</td>\n",
       "      <td>3.626833</td>\n",
       "      <td>3.626833</td>\n",
       "    </tr>\n",
       "    <tr>\n",
       "      <th>1</th>\n",
       "      <td>Harness</td>\n",
       "      <td>Version-2022-03-29T15-20-54</td>\n",
       "      <td>harness-frontend-main</td>\n",
       "      <td>PHP</td>\n",
       "      <td>4.000000</td>\n",
       "      <td>4.000000</td>\n",
       "    </tr>\n",
       "  </tbody>\n",
       "</table>\n",
       "</div>"
      ],
      "text/plain": [
       "  application.name           annotation.version            module.name  \\\n",
       "0          Harness  Version-2022-03-29T15-20-54       harness-api-main   \n",
       "0          Harness  Version-2022-03-29T15-20-54       harness-api-main   \n",
       "1          Harness  Version-2022-03-29T15-20-54  harness-frontend-main   \n",
       "1          Harness  Version-2022-03-29T15-20-54  harness-frontend-main   \n",
       "\n",
       "  technologies   results     grade  \n",
       "0        HTML5  3.303535  3.303535  \n",
       "0          PHP  4.000000  4.000000  \n",
       "1        HTML5  3.626833  3.626833  \n",
       "1          PHP  4.000000  4.000000  "
      ]
     },
     "execution_count": 19,
     "metadata": {},
     "output_type": "execute_result"
    }
   ],
   "source": [
    "df['grade']=df.apply(grade,axis=1)\n",
    "df"
   ]
  }
 ],
 "metadata": {
  "interpreter": {
   "hash": "f43d0d38fca9ae7f2fee352c924ddbe6bd156c3c2ddcb617fd0a2e9ce5ee2435"
  },
  "kernelspec": {
   "display_name": "Python 3.8.1 32-bit",
   "language": "python",
   "name": "python3"
  },
  "language_info": {
   "codemirror_mode": {
    "name": "ipython",
    "version": 3
   },
   "file_extension": ".py",
   "mimetype": "text/x-python",
   "name": "python",
   "nbconvert_exporter": "python",
   "pygments_lexer": "ipython3",
   "version": "3.8.1"
  },
  "orig_nbformat": 4
 },
 "nbformat": 4,
 "nbformat_minor": 2
}
